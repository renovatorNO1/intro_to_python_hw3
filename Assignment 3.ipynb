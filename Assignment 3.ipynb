{
 "cells": [
  {
   "cell_type": "markdown",
   "metadata": {},
   "source": [
    "Chapter6 Exercise23"
   ]
  },
  {
   "cell_type": "code",
   "execution_count": 11,
   "metadata": {
    "collapsed": false
   },
   "outputs": [
    {
     "name": "stdout",
     "output_type": "stream",
     "text": [
      "How many seconds do you want your progression to last?100\n",
      "At 0 secs: \n",
      "At 10 secs: X\n",
      "At 20 secs: XX\n",
      "At 30 secs: XXX\n",
      "At 40 secs: XXXX\n",
      "At 50 secs: XXXXX\n",
      "At 60 secs: XXXXXX\n",
      "At 70 secs: XXXXXXX\n",
      "At 80 secs: XXXXXXXX\n",
      "At 90 secs: XXXXXXXXX\n"
     ]
    }
   ],
   "source": [
    "\n",
    "import time\n",
    "\n",
    "seconds = input(\"How many seconds do you want your progression to last?\")  \n",
    "t = int(seconds) // 10    \n",
    "counter = 0\n",
    "while counter < t:\n",
    "    \n",
    "    print(\"At {:s} secs: \".format(str(10*counter))+\"X\"*counter)\n",
    "    time.sleep(1)\n",
    "    counter += 1\n",
    "\n"
   ]
  },
  {
   "cell_type": "markdown",
   "metadata": {},
   "source": [
    "Chapter7 Exercise 11(a)"
   ]
  },
  {
   "cell_type": "code",
   "execution_count": 13,
   "metadata": {
    "collapsed": false
   },
   "outputs": [
    {
     "name": "stdout",
     "output_type": "stream",
     "text": [
      "x is [1, 2, 3]\n",
      "y is [1, 2, 3]\n",
      "new x is [2, 2, 3]\n",
      "new y is [2, 2, 3]\n"
     ]
    }
   ],
   "source": [
    "x = [1,2,3]\n",
    "y = x\n",
    "print (\"x is\",x)\n",
    "print (\"y is\",y)\n",
    "x[0] = 2\n",
    "print (\"new x is\",x)\n",
    "print (\"new y is\", y)"
   ]
  },
  {
   "cell_type": "markdown",
   "metadata": {},
   "source": [
    "Chapter7 Exercise12(b)"
   ]
  },
  {
   "cell_type": "code",
   "execution_count": 14,
   "metadata": {
    "collapsed": false
   },
   "outputs": [
    {
     "name": "stdout",
     "output_type": "stream",
     "text": [
      "x is [1, 2, 3]\n",
      "y is [1, 2, 3]\n",
      "new x is [2, 2, 3]\n",
      "new y is [1, 2, 3]\n"
     ]
    }
   ],
   "source": [
    "import copy\n",
    "x = [1,2,3]\n",
    "y = copy.deepcopy(x)\n",
    "\n",
    "print (\"x is\",x)\n",
    "print (\"y is\",y)\n",
    "x[0] = 2\n",
    "print (\"new x is\",x)\n",
    "print (\"new y is\", y)"
   ]
  },
  {
   "cell_type": "markdown",
   "metadata": {},
   "source": [
    "Chapter7 Exercise12\n"
   ]
  },
  {
   "cell_type": "markdown",
   "metadata": {},
   "source": [
    "1 will be printed in the console and an error message will be printed as well\n",
    "error message: AttributeError: 'str' object has no attribute 'append'\n"
   ]
  },
  {
   "cell_type": "markdown",
   "metadata": {},
   "source": [
    "Chapter7 Exercise16(a):"
   ]
  },
  {
   "cell_type": "code",
   "execution_count": 17,
   "metadata": {
    "collapsed": false
   },
   "outputs": [
    {
     "name": "stdout",
     "output_type": "stream",
     "text": [
      "[1, 2, 3, 4, (1, 2, 3)]\n",
      "It's possible to have a tuple in a list because a list can have elements of any type\n"
     ]
    }
   ],
   "source": [
    "tuple_in_list = [1,2,3,4,(1,2,3)]\n",
    "print(tuple_in_list)\n",
    "print(\"It's possible to have a tuple in a list because a list can have elements of any type\")"
   ]
  },
  {
   "cell_type": "markdown",
   "metadata": {},
   "source": [
    "Chapter7 Exercise16(b)"
   ]
  },
  {
   "cell_type": "code",
   "execution_count": 21,
   "metadata": {
    "collapsed": false
   },
   "outputs": [
    {
     "name": "stdout",
     "output_type": "stream",
     "text": [
      "(1, 2, 3, 4, [1, 2, 3])\n",
      "It's possible to have a list in a tuple\n",
      "because a tuple share all characteristics of a list except that it is immutable\n"
     ]
    }
   ],
   "source": [
    "list_in_tuple = (1,2,3,4,[1,2,3])\n",
    "print(list_in_tuple)\n",
    "print(\"It's possible to have a list in a tuple\")\n",
    "print(\"because a tuple share all characteristics of a list except that it is immutable\")"
   ]
  },
  {
   "cell_type": "markdown",
   "metadata": {},
   "source": [
    " Chapter7 Exercise30(a):"
   ]
  },
  {
   "cell_type": "code",
   "execution_count": 22,
   "metadata": {
    "collapsed": false,
    "scrolled": true
   },
   "outputs": [
    {
     "name": "stdout",
     "output_type": "stream",
     "text": [
      "[1, 2, 3]\n",
      "[1, 2, 3]\n",
      "Is a equal to b? True\n"
     ]
    }
   ],
   "source": [
    "a = [1,2,3]\n",
    "b = a\n",
    "print(a)\n",
    "print(b)\n",
    "print(\"Is a equal to b?\", a is b)"
   ]
  },
  {
   "cell_type": "markdown",
   "metadata": {},
   "source": [
    " Chapter7 Exercise30(b):"
   ]
  },
  {
   "cell_type": "code",
   "execution_count": 24,
   "metadata": {
    "collapsed": false
   },
   "outputs": [
    {
     "name": "stdout",
     "output_type": "stream",
     "text": [
      "[1, 2, 3]\n",
      "[1, 2, 3]\n",
      "Is a equal to b? False\n"
     ]
    }
   ],
   "source": [
    "a = [1,2,3]\n",
    "b = [1,2,3]\n",
    "print(a)\n",
    "print(b)\n",
    "print(\"Is a equal to b?\", a is b)"
   ]
  },
  {
   "cell_type": "markdown",
   "metadata": {},
   "source": [
    "Chapter7 Exercise38:"
   ]
  },
  {
   "cell_type": "code",
   "execution_count": 35,
   "metadata": {
    "collapsed": false
   },
   "outputs": [
    {
     "name": "stdout",
     "output_type": "stream",
     "text": [
      "What is the number you want to calculate the sum of all its factos?6\n",
      "The sum of the factors of 6 is 12\n"
     ]
    }
   ],
   "source": [
    "num = int(input(\"What is the number you want to calculate the sum of all its factos?\"))\n",
    "sum_of_factors = sum([i for i in range(1,num + 1) if num % i == 0])\n",
    "print (\"The sum of the factors of {:s} is\".format(str(num)), sum_of_factors)\n"
   ]
  },
  {
   "cell_type": "code",
   "execution_count": null,
   "metadata": {
    "collapsed": true
   },
   "outputs": [],
   "source": []
  }
 ],
 "metadata": {
  "kernelspec": {
   "display_name": "Python 3",
   "language": "python",
   "name": "python3"
  },
  "language_info": {
   "codemirror_mode": {
    "name": "ipython",
    "version": 3
   },
   "file_extension": ".py",
   "mimetype": "text/x-python",
   "name": "python",
   "nbconvert_exporter": "python",
   "pygments_lexer": "ipython3",
   "version": "3.4.3"
  }
 },
 "nbformat": 4,
 "nbformat_minor": 0
}
